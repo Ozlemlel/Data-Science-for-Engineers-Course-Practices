{
 "cells": [
  {
   "cell_type": "code",
   "execution_count": 10,
   "id": "aa519a81",
   "metadata": {},
   "outputs": [
    {
     "name": "stdout",
     "output_type": "stream",
     "text": [
      "[12]\n",
      "[12 14]\n",
      "[12 14 16]\n",
      "[12 14 16 18]\n"
     ]
    }
   ],
   "source": [
    "\n",
    "\n",
    "import numpy\n",
    "\n",
    "a_list = [2, 4, 6, 8]\n",
    "new_list = []\n",
    "\n",
    "for i in range(len(a_list)):\n",
    "    add1 = 10\n",
    "    nw = a_list[i] + add1\n",
    "    \n",
    "    new_list.append(nw)\n",
    "    \n",
    "    arr_list = numpy.array(new_list)\n",
    "    \n",
    "    print(arr_list)\n",
    "    "
   ]
  },
  {
   "cell_type": "code",
   "execution_count": 81,
   "id": "c15d09f3",
   "metadata": {},
   "outputs": [
    {
     "name": "stdout",
     "output_type": "stream",
     "text": [
      "divided by 3: [0.66666667 1.33333333 2.         2.66666667 3.33333333 3.33333333\n",
      " 3.33333333 3.33333333]\n"
     ]
    }
   ],
   "source": [
    "import numpy as np\n",
    "\n",
    "a_list = [2, 4, 6, 8]\n",
    "new_list = []\n",
    "\n",
    "for i in range(len(a_list)):\n",
    "    add1 = 10\n",
    "    a_list.append(add1)\n",
    "    \n",
    "    #print('new list:', a_list)\n",
    "    \n",
    "    arr = numpy.array(a_list)\n",
    "    \n",
    "    #print('array:', arr)\n",
    "    \n",
    "    out = np.divide(arr, 2)\n",
    "    out2 = np.divide(arr, 3)\n",
    "    #print('divided by 2:', out)\n",
    "print('divided by 3:', out2)"
   ]
  },
  {
   "cell_type": "code",
   "execution_count": 36,
   "id": "90c3a4d8",
   "metadata": {},
   "outputs": [],
   "source": [
    "a = [1, 2]\n",
    "new_list = []\n",
    "for i in range(len(a)):\n",
    "    add1 = i\n",
    "    nw = a_list[i] + add1\n",
    "    \n",
    "    new_list.append(nw)"
   ]
  },
  {
   "cell_type": "code",
   "execution_count": 63,
   "id": "10bdced2",
   "metadata": {},
   "outputs": [
    {
     "name": "stdout",
     "output_type": "stream",
     "text": [
      "     0    1    2\n",
      "0  117  132  118\n",
      "1   50   32   24\n",
      "2  108  112  115\n",
      "    0   1   2\n",
      "0  50  32  24\n",
      "1  67  52  32\n",
      "2  84  97  18\n",
      "    0   1   2\n",
      "0  50  32  24\n",
      "     0    1    2\n",
      "0  117  132  118\n",
      "1   50   32   24\n",
      "2  108  112  115\n",
      "3   67   52   32\n",
      "4   84   97   18\n"
     ]
    }
   ],
   "source": [
    "import pandas as pd\n",
    "\n",
    "df1 = pd.DataFrame([[117, 132, 118], [50, 32, 24], [108, 112, 115]])\n",
    "print(df1)\n",
    "print(df2)\n",
    "df2 = pd.DataFrame([[50, 32, 24], [67, 52, 32], [84, 97, 18]])\n",
    "\n",
    "df1.to_csv('df1.csv')\n",
    "df2.to_csv('df2.csv')\n",
    "\n",
    "frames = [df1, df2]\n",
    "\n",
    "result = pd.concat(frames)\n",
    "#print(result)\n",
    "\n",
    "dfs_cd = pd.merge(df1, df2, how='inner')\n",
    "print(dfs_cd)\n",
    "\n",
    "dfs2_cd = pd.merge(df1, df2, how='outer')\n",
    "print(dfs2_cd)"
   ]
  },
  {
   "cell_type": "code",
   "execution_count": 86,
   "id": "0280f1a4",
   "metadata": {},
   "outputs": [
    {
     "name": "stdout",
     "output_type": "stream",
     "text": [
      "[2 1 0]\n",
      "3\n"
     ]
    }
   ],
   "source": [
    "import numpy as np\n",
    "\n",
    "first_matrice = np.array([[1, 0, 0], [0, 1, 0], [0, 0, 1]])\n",
    "second_matrice = np.array([[5, 3, 2], [6, 5, 3], [8, 9, 1]])\n",
    "\n",
    "one_vector = np.array([2, 1, 0])\n",
    "\n",
    "result_matrices = np.array([])\n",
    "#for i in range(len(first_matrice)):\n",
    "   \n",
    "#   for j in range(len(second_matrice[0])):\n",
    "#    result[i][j] = first_matrice[i][j] + second_matrice[j][i]\n",
    "\n",
    "#for r in result:\n",
    "#    print(r)\n",
    "pro_of_matrice_vector = np.dot(first_matrice, one_vector)\n",
    "print(pro_of_matrice_vector)\n",
    "print(len(pro_of_matrice_vector))"
   ]
  },
  {
   "cell_type": "code",
   "execution_count": null,
   "id": "9e738b8c",
   "metadata": {},
   "outputs": [],
   "source": []
  }
 ],
 "metadata": {
  "kernelspec": {
   "display_name": "Python 3 (ipykernel)",
   "language": "python",
   "name": "python3"
  },
  "language_info": {
   "codemirror_mode": {
    "name": "ipython",
    "version": 3
   },
   "file_extension": ".py",
   "mimetype": "text/x-python",
   "name": "python",
   "nbconvert_exporter": "python",
   "pygments_lexer": "ipython3",
   "version": "3.11.1"
  }
 },
 "nbformat": 4,
 "nbformat_minor": 5
}
